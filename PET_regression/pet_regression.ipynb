{
 "cells": [
  {
   "cell_type": "code",
   "execution_count": 31,
   "id": "851bc29f-38dc-48a1-8968-a74421a2af54",
   "metadata": {},
   "outputs": [],
   "source": [
    "import pandas as pd\n",
    "import numpy as np\n",
    "import matplotlib.pyplot as plt\n",
    "import seaborn as sns\n",
    "\n",
    "from sklearn.tree import DecisionTreeRegressor\n",
    "from sklearn.preprocessing import StandardScaler, MinMaxScaler, TargetEncoder\n",
    "from sklearn.linear_model import LinearRegression, Lasso, LassoCV, Ridge, RidgeCV\n",
    "from sklearn.model_selection import GridSearchCV, train_test_split\n",
    "from sklearn.ensemble import RandomForestRegressor\n",
    "from xgboost import XGBRegressor\n",
    "from sklearn.metrics import mean_squared_error, mean_absolute_error, r2_score\n",
    "from sklearn.compose import ColumnTransformer\n",
    "\n",
    "import statsmodels.api as sm\n",
    "\n",
    "from warnings import simplefilter\n",
    "simplefilter(\"ignore\")"
   ]
  },
  {
   "cell_type": "code",
   "execution_count": 2,
   "id": "4d4c137f-32b8-46d5-a1c0-c31cacdb6e9b",
   "metadata": {},
   "outputs": [
    {
     "data": {
      "text/html": [
       "<div>\n",
       "<style scoped>\n",
       "    .dataframe tbody tr th:only-of-type {\n",
       "        vertical-align: middle;\n",
       "    }\n",
       "\n",
       "    .dataframe tbody tr th {\n",
       "        vertical-align: top;\n",
       "    }\n",
       "\n",
       "    .dataframe thead th {\n",
       "        text-align: right;\n",
       "    }\n",
       "</style>\n",
       "<table border=\"1\" class=\"dataframe\">\n",
       "  <thead>\n",
       "    <tr style=\"text-align: right;\">\n",
       "      <th></th>\n",
       "      <th>Store</th>\n",
       "      <th>Date</th>\n",
       "      <th>Weekly_Sales</th>\n",
       "      <th>Holiday_Flag</th>\n",
       "      <th>Temperature</th>\n",
       "      <th>Fuel_Price</th>\n",
       "      <th>CPI</th>\n",
       "      <th>Unemployment</th>\n",
       "    </tr>\n",
       "  </thead>\n",
       "  <tbody>\n",
       "    <tr>\n",
       "      <th>0</th>\n",
       "      <td>1</td>\n",
       "      <td>05-02-2010</td>\n",
       "      <td>1643690.90</td>\n",
       "      <td>0</td>\n",
       "      <td>42.31</td>\n",
       "      <td>2.572</td>\n",
       "      <td>211.096358</td>\n",
       "      <td>8.106</td>\n",
       "    </tr>\n",
       "    <tr>\n",
       "      <th>1</th>\n",
       "      <td>1</td>\n",
       "      <td>12-02-2010</td>\n",
       "      <td>1641957.44</td>\n",
       "      <td>1</td>\n",
       "      <td>38.51</td>\n",
       "      <td>2.548</td>\n",
       "      <td>211.242170</td>\n",
       "      <td>8.106</td>\n",
       "    </tr>\n",
       "    <tr>\n",
       "      <th>2</th>\n",
       "      <td>1</td>\n",
       "      <td>19-02-2010</td>\n",
       "      <td>1611968.17</td>\n",
       "      <td>0</td>\n",
       "      <td>39.93</td>\n",
       "      <td>2.514</td>\n",
       "      <td>211.289143</td>\n",
       "      <td>8.106</td>\n",
       "    </tr>\n",
       "    <tr>\n",
       "      <th>3</th>\n",
       "      <td>1</td>\n",
       "      <td>26-02-2010</td>\n",
       "      <td>1409727.59</td>\n",
       "      <td>0</td>\n",
       "      <td>46.63</td>\n",
       "      <td>2.561</td>\n",
       "      <td>211.319643</td>\n",
       "      <td>8.106</td>\n",
       "    </tr>\n",
       "    <tr>\n",
       "      <th>4</th>\n",
       "      <td>1</td>\n",
       "      <td>05-03-2010</td>\n",
       "      <td>1554806.68</td>\n",
       "      <td>0</td>\n",
       "      <td>46.50</td>\n",
       "      <td>2.625</td>\n",
       "      <td>211.350143</td>\n",
       "      <td>8.106</td>\n",
       "    </tr>\n",
       "    <tr>\n",
       "      <th>...</th>\n",
       "      <td>...</td>\n",
       "      <td>...</td>\n",
       "      <td>...</td>\n",
       "      <td>...</td>\n",
       "      <td>...</td>\n",
       "      <td>...</td>\n",
       "      <td>...</td>\n",
       "      <td>...</td>\n",
       "    </tr>\n",
       "    <tr>\n",
       "      <th>6430</th>\n",
       "      <td>45</td>\n",
       "      <td>28-09-2012</td>\n",
       "      <td>713173.95</td>\n",
       "      <td>0</td>\n",
       "      <td>64.88</td>\n",
       "      <td>3.997</td>\n",
       "      <td>192.013558</td>\n",
       "      <td>8.684</td>\n",
       "    </tr>\n",
       "    <tr>\n",
       "      <th>6431</th>\n",
       "      <td>45</td>\n",
       "      <td>05-10-2012</td>\n",
       "      <td>733455.07</td>\n",
       "      <td>0</td>\n",
       "      <td>64.89</td>\n",
       "      <td>3.985</td>\n",
       "      <td>192.170412</td>\n",
       "      <td>8.667</td>\n",
       "    </tr>\n",
       "    <tr>\n",
       "      <th>6432</th>\n",
       "      <td>45</td>\n",
       "      <td>12-10-2012</td>\n",
       "      <td>734464.36</td>\n",
       "      <td>0</td>\n",
       "      <td>54.47</td>\n",
       "      <td>4.000</td>\n",
       "      <td>192.327265</td>\n",
       "      <td>8.667</td>\n",
       "    </tr>\n",
       "    <tr>\n",
       "      <th>6433</th>\n",
       "      <td>45</td>\n",
       "      <td>19-10-2012</td>\n",
       "      <td>718125.53</td>\n",
       "      <td>0</td>\n",
       "      <td>56.47</td>\n",
       "      <td>3.969</td>\n",
       "      <td>192.330854</td>\n",
       "      <td>8.667</td>\n",
       "    </tr>\n",
       "    <tr>\n",
       "      <th>6434</th>\n",
       "      <td>45</td>\n",
       "      <td>26-10-2012</td>\n",
       "      <td>760281.43</td>\n",
       "      <td>0</td>\n",
       "      <td>58.85</td>\n",
       "      <td>3.882</td>\n",
       "      <td>192.308899</td>\n",
       "      <td>8.667</td>\n",
       "    </tr>\n",
       "  </tbody>\n",
       "</table>\n",
       "<p>6435 rows × 8 columns</p>\n",
       "</div>"
      ],
      "text/plain": [
       "      Store        Date  Weekly_Sales  Holiday_Flag  Temperature  Fuel_Price  \\\n",
       "0         1  05-02-2010    1643690.90             0        42.31       2.572   \n",
       "1         1  12-02-2010    1641957.44             1        38.51       2.548   \n",
       "2         1  19-02-2010    1611968.17             0        39.93       2.514   \n",
       "3         1  26-02-2010    1409727.59             0        46.63       2.561   \n",
       "4         1  05-03-2010    1554806.68             0        46.50       2.625   \n",
       "...     ...         ...           ...           ...          ...         ...   \n",
       "6430     45  28-09-2012     713173.95             0        64.88       3.997   \n",
       "6431     45  05-10-2012     733455.07             0        64.89       3.985   \n",
       "6432     45  12-10-2012     734464.36             0        54.47       4.000   \n",
       "6433     45  19-10-2012     718125.53             0        56.47       3.969   \n",
       "6434     45  26-10-2012     760281.43             0        58.85       3.882   \n",
       "\n",
       "             CPI  Unemployment  \n",
       "0     211.096358         8.106  \n",
       "1     211.242170         8.106  \n",
       "2     211.289143         8.106  \n",
       "3     211.319643         8.106  \n",
       "4     211.350143         8.106  \n",
       "...          ...           ...  \n",
       "6430  192.013558         8.684  \n",
       "6431  192.170412         8.667  \n",
       "6432  192.327265         8.667  \n",
       "6433  192.330854         8.667  \n",
       "6434  192.308899         8.667  \n",
       "\n",
       "[6435 rows x 8 columns]"
      ]
     },
     "execution_count": 2,
     "metadata": {},
     "output_type": "execute_result"
    }
   ],
   "source": [
    "data = pd.read_csv('../regression/Walmart.csv')\n",
    "data"
   ]
  },
  {
   "cell_type": "markdown",
   "id": "0888e981-f5c0-4da8-8d59-3e5eb83a411d",
   "metadata": {},
   "source": [
    "### EDA"
   ]
  },
  {
   "cell_type": "code",
   "execution_count": 3,
   "id": "e9c01454-a733-463f-bc67-a9383ce465ef",
   "metadata": {},
   "outputs": [
    {
     "name": "stdout",
     "output_type": "stream",
     "text": [
      "<class 'pandas.core.frame.DataFrame'>\n",
      "RangeIndex: 6435 entries, 0 to 6434\n",
      "Data columns (total 8 columns):\n",
      " #   Column        Non-Null Count  Dtype  \n",
      "---  ------        --------------  -----  \n",
      " 0   Store         6435 non-null   int64  \n",
      " 1   Date          6435 non-null   object \n",
      " 2   Weekly_Sales  6435 non-null   float64\n",
      " 3   Holiday_Flag  6435 non-null   int64  \n",
      " 4   Temperature   6435 non-null   float64\n",
      " 5   Fuel_Price    6435 non-null   float64\n",
      " 6   CPI           6435 non-null   float64\n",
      " 7   Unemployment  6435 non-null   float64\n",
      "dtypes: float64(5), int64(2), object(1)\n",
      "memory usage: 402.3+ KB\n"
     ]
    }
   ],
   "source": [
    "data.info()"
   ]
  },
  {
   "cell_type": "code",
   "execution_count": 4,
   "id": "2d2ad013-d979-4670-a83b-01a9ff4d6133",
   "metadata": {},
   "outputs": [
    {
     "data": {
      "text/plain": [
       "Store           0\n",
       "Date            0\n",
       "Weekly_Sales    0\n",
       "Holiday_Flag    0\n",
       "Temperature     0\n",
       "Fuel_Price      0\n",
       "CPI             0\n",
       "Unemployment    0\n",
       "dtype: int64"
      ]
     },
     "execution_count": 4,
     "metadata": {},
     "output_type": "execute_result"
    }
   ],
   "source": [
    "data.isna().sum()\n",
    "# Пропущенных значений в датасете нет"
   ]
  },
  {
   "cell_type": "code",
   "execution_count": 5,
   "id": "01b1d3c4-f56c-4b33-87df-779a994a6b77",
   "metadata": {},
   "outputs": [
    {
     "data": {
      "image/png": "[encoded data removed]",
      "text/plain": [
       "<Figure size 400x400 with 1 Axes>"
      ]
     },
     "metadata": {},
     "output_type": "display_data"
    },
    {
     "data": {
      "image/png": "[encoded data removed]",
      "text/plain": [
       "<Figure size 400x400 with 1 Axes>"
      ]
     },
     "metadata": {},
     "output_type": "display_data"
    },
    {
     "data": {
      "image/png": "[encoded data removed]",
      "text/plain": [
       "<Figure size 400x400 with 1 Axes>"
      ]
     },
     "metadata": {},
     "output_type": "display_data"
    },
    {
     "data": {
      "image/png": "[encoded data removed]",
      "text/plain": [
       "<Figure size 400x400 with 1 Axes>"
      ]
     },
     "metadata": {},
     "output_type": "display_data"
    },
    {
     "data": {
      "image/png": "[encoded data removed]",
      "text/plain": [
       "<Figure size 400x400 with 1 Axes>"
      ]
     },
     "metadata": {},
     "output_type": "display_data"
    },
    {
     "data": {
      "image/png": "[encoded data removed]",
      "text/plain": [
       "<Figure size 400x400 with 1 Axes>"
      ]
     },
     "metadata": {},
     "output_type": "display_data"
    },
    {
     "data": {
      "image/png": "[encoded data removed]",
      "text/plain": [
       "<Figure size 400x400 with 1 Axes>"
      ]
     },
     "metadata": {},
     "output_type": "display_data"
    },
    {
     "data": {
      "image/png": "[encoded data removed]",
      "text/plain": [
       "<Figure size 400x400 with 1 Axes>"
      ]
     },
     "metadata": {},
     "output_type": "display_data"
    }
   ],
   "source": [
    "for col in data.columns:\n",
    "    plt.figure(figsize=(4,4))\n",
    "    plt.hist(data[col])\n",
    "    plt.title(f'{col}')\n",
    "    plt.show()"
   ]
  },
  {
   "cell_type": "markdown",
   "id": "4fcef9e8-5d17-49f8-b5d4-ad2fba1ab013",
   "metadata": {},
   "source": [
    "##### для повышения интерпретируемости изменим признак temperature в градусы Цельсия"
   ]
  },
  {
   "cell_type": "code",
   "execution_count": 6,
   "id": "f7e22473-d430-4177-a51a-5604c5aee3d0",
   "metadata": {},
   "outputs": [],
   "source": [
    "def to_cels(x):\n",
    "    return (x - 32) * 5 / 9\n",
    "\n",
    "data['Temperature'] = data['Temperature'].apply(to_cels)"
   ]
  },
  {
   "cell_type": "markdown",
   "id": "cdeea3a1-6c9f-4cf7-9530-8a2e9ffbd822",
   "metadata": {},
   "source": [
    "##### из стообца с данными о дате \"извлечем\" месяц, сформировав категориальный признак \"Month\""
   ]
  },
  {
   "cell_type": "code",
   "execution_count": 7,
   "id": "d69ef100-9caf-41d4-b640-2051e4fd250a",
   "metadata": {},
   "outputs": [],
   "source": [
    "data['Date'] = pd.to_datetime(data['Date'], format='%d-%m-%Y')\n",
    "\n",
    "data['Month'] = data['Date'].dt.month\n",
    "\n",
    "data.drop('Date', axis=1, inplace=True)"
   ]
  },
  {
   "cell_type": "markdown",
   "id": "331c87d7-b795-4f12-bffb-a61e6b2f26b4",
   "metadata": {},
   "source": [
    "##### Выведем признак \"Season\""
   ]
  },
  {
   "cell_type": "code",
   "execution_count": 8,
   "id": "34354e4d-55e8-427b-8688-87d1a705d0be",
   "metadata": {},
   "outputs": [],
   "source": [
    "def get_season(x):\n",
    "    \n",
    "    if x in [1, 2, 12]:\n",
    "        x = 'Winter'\n",
    "        \n",
    "    elif 3 <= x <= 5:\n",
    "        x = 'Spring'\n",
    "        \n",
    "    elif 6 <= x <= 8:\n",
    "        x = 'Summer'\n",
    "        \n",
    "    else:\n",
    "        x = 'Autumn'\n",
    "        \n",
    "    return x"
   ]
  },
  {
   "cell_type": "code",
   "execution_count": 9,
   "id": "ea242a3a-1eda-4aad-b79f-d4d46e5bef4d",
   "metadata": {},
   "outputs": [],
   "source": [
    "data['Season'] = data['Month'].apply(get_season)\n",
    "data.drop('Month', axis=1, inplace=True)"
   ]
  },
  {
   "cell_type": "markdown",
   "id": "f7f3c824-c94b-474d-baac-acdd84b9cb06",
   "metadata": {},
   "source": [
    "### Preprocessing"
   ]
  },
  {
   "cell_type": "markdown",
   "id": "4f79e57c-3152-4010-8a91-8040e3fcd7d4",
   "metadata": {},
   "source": [
    "##### Оценим границы распределения признаков для принятия решения о необходимости ограничения выбросов"
   ]
  },
  {
   "cell_type": "code",
   "execution_count": 10,
   "id": "6fff670b-7d77-4456-956c-eb5ab5d94292",
   "metadata": {},
   "outputs": [
    {
     "data": {
      "text/html": [
       "<div>\n",
       "<style scoped>\n",
       "    .dataframe tbody tr th:only-of-type {\n",
       "        vertical-align: middle;\n",
       "    }\n",
       "\n",
       "    .dataframe tbody tr th {\n",
       "        vertical-align: top;\n",
       "    }\n",
       "\n",
       "    .dataframe thead th {\n",
       "        text-align: right;\n",
       "    }\n",
       "</style>\n",
       "<table border=\"1\" class=\"dataframe\">\n",
       "  <thead>\n",
       "    <tr style=\"text-align: right;\">\n",
       "      <th></th>\n",
       "      <th>Store</th>\n",
       "      <th>Weekly_Sales</th>\n",
       "      <th>Holiday_Flag</th>\n",
       "      <th>Temperature</th>\n",
       "      <th>Fuel_Price</th>\n",
       "      <th>CPI</th>\n",
       "      <th>Unemployment</th>\n",
       "    </tr>\n",
       "  </thead>\n",
       "  <tbody>\n",
       "    <tr>\n",
       "      <th>count</th>\n",
       "      <td>6435.000000</td>\n",
       "      <td>6.435000e+03</td>\n",
       "      <td>6435.000000</td>\n",
       "      <td>6435.000000</td>\n",
       "      <td>6435.000000</td>\n",
       "      <td>6435.000000</td>\n",
       "      <td>6435.000000</td>\n",
       "    </tr>\n",
       "    <tr>\n",
       "      <th>mean</th>\n",
       "      <td>23.000000</td>\n",
       "      <td>1.046965e+06</td>\n",
       "      <td>0.069930</td>\n",
       "      <td>15.924324</td>\n",
       "      <td>3.358607</td>\n",
       "      <td>171.578394</td>\n",
       "      <td>7.999151</td>\n",
       "    </tr>\n",
       "    <tr>\n",
       "      <th>std</th>\n",
       "      <td>12.988182</td>\n",
       "      <td>5.643666e+05</td>\n",
       "      <td>0.255049</td>\n",
       "      <td>10.247185</td>\n",
       "      <td>0.459020</td>\n",
       "      <td>39.356712</td>\n",
       "      <td>1.875885</td>\n",
       "    </tr>\n",
       "    <tr>\n",
       "      <th>min</th>\n",
       "      <td>1.000000</td>\n",
       "      <td>2.099862e+05</td>\n",
       "      <td>0.000000</td>\n",
       "      <td>-18.922222</td>\n",
       "      <td>2.472000</td>\n",
       "      <td>126.064000</td>\n",
       "      <td>3.879000</td>\n",
       "    </tr>\n",
       "    <tr>\n",
       "      <th>25%</th>\n",
       "      <td>12.000000</td>\n",
       "      <td>5.533501e+05</td>\n",
       "      <td>0.000000</td>\n",
       "      <td>8.588889</td>\n",
       "      <td>2.933000</td>\n",
       "      <td>131.735000</td>\n",
       "      <td>6.891000</td>\n",
       "    </tr>\n",
       "    <tr>\n",
       "      <th>50%</th>\n",
       "      <td>23.000000</td>\n",
       "      <td>9.607460e+05</td>\n",
       "      <td>0.000000</td>\n",
       "      <td>17.038889</td>\n",
       "      <td>3.445000</td>\n",
       "      <td>182.616521</td>\n",
       "      <td>7.874000</td>\n",
       "    </tr>\n",
       "    <tr>\n",
       "      <th>75%</th>\n",
       "      <td>34.000000</td>\n",
       "      <td>1.420159e+06</td>\n",
       "      <td>0.000000</td>\n",
       "      <td>23.855556</td>\n",
       "      <td>3.735000</td>\n",
       "      <td>212.743293</td>\n",
       "      <td>8.622000</td>\n",
       "    </tr>\n",
       "    <tr>\n",
       "      <th>max</th>\n",
       "      <td>45.000000</td>\n",
       "      <td>3.818686e+06</td>\n",
       "      <td>1.000000</td>\n",
       "      <td>37.855556</td>\n",
       "      <td>4.468000</td>\n",
       "      <td>227.232807</td>\n",
       "      <td>14.313000</td>\n",
       "    </tr>\n",
       "  </tbody>\n",
       "</table>\n",
       "</div>"
      ],
      "text/plain": [
       "             Store  Weekly_Sales  Holiday_Flag  Temperature   Fuel_Price  \\\n",
       "count  6435.000000  6.435000e+03   6435.000000  6435.000000  6435.000000   \n",
       "mean     23.000000  1.046965e+06      0.069930    15.924324     3.358607   \n",
       "std      12.988182  5.643666e+05      0.255049    10.247185     0.459020   \n",
       "min       1.000000  2.099862e+05      0.000000   -18.922222     2.472000   \n",
       "25%      12.000000  5.533501e+05      0.000000     8.588889     2.933000   \n",
       "50%      23.000000  9.607460e+05      0.000000    17.038889     3.445000   \n",
       "75%      34.000000  1.420159e+06      0.000000    23.855556     3.735000   \n",
       "max      45.000000  3.818686e+06      1.000000    37.855556     4.468000   \n",
       "\n",
       "               CPI  Unemployment  \n",
       "count  6435.000000   6435.000000  \n",
       "mean    171.578394      7.999151  \n",
       "std      39.356712      1.875885  \n",
       "min     126.064000      3.879000  \n",
       "25%     131.735000      6.891000  \n",
       "50%     182.616521      7.874000  \n",
       "75%     212.743293      8.622000  \n",
       "max     227.232807     14.313000  "
      ]
     },
     "execution_count": 10,
     "metadata": {},
     "output_type": "execute_result"
    }
   ],
   "source": [
    "data.describe()"
   ]
  },
  {
   "cell_type": "markdown",
   "id": "a3551f41-7fed-42a9-b19c-23c42ab0a2cd",
   "metadata": {},
   "source": [
    "##### Категориальный признак Season закодируем с помощью OneHotEncoding"
   ]
  },
  {
   "cell_type": "code",
   "execution_count": 11,
   "id": "0eccd9c5-62b8-441c-af15-38f2cba81d80",
   "metadata": {},
   "outputs": [],
   "source": [
    "def to_ohe(col):\n",
    "    \n",
    "    encoded = pd.get_dummies(data, columns=[col])\n",
    "    \n",
    "    return encoded"
   ]
  },
  {
   "cell_type": "code",
   "execution_count": 12,
   "id": "92ccb201-6654-4f79-ad14-bd5a940148af",
   "metadata": {},
   "outputs": [],
   "source": [
    "data = to_ohe('Season')"
   ]
  },
  {
   "cell_type": "markdown",
   "id": "22a442c0-49e6-4a9d-b664-cdd8fce1f4cd",
   "metadata": {},
   "source": [
    "##### Ограничим признак Unemployment c помощью IQR"
   ]
  },
  {
   "cell_type": "code",
   "execution_count": 13,
   "id": "ae5793ba-950e-4078-a85f-d488467fc79b",
   "metadata": {},
   "outputs": [],
   "source": [
    "def cut_outliers_IQR(clmn, N=1.5):\n",
    "    Q1 = clmn.quantile(0.25)\n",
    "    Q3 = clmn.quantile(0.75)\n",
    "    IQR = Q3 - Q1\n",
    "    Lim_max = Q3 + IQR*N\n",
    "    Lim_min = Q1 - IQR*N\n",
    "    \n",
    "    def cutting(x):\n",
    "        if x > Lim_max:\n",
    "            x = Lim_max\n",
    "        elif x < Lim_min:\n",
    "            x = Lim_min\n",
    "        return x\n",
    "    clmn_new = clmn.apply(cutting)\n",
    "    return clmn_new"
   ]
  },
  {
   "cell_type": "code",
   "execution_count": 14,
   "id": "84f33415-b757-463b-b0fa-217404fa074e",
   "metadata": {},
   "outputs": [
    {
     "data": {
      "image/png": "[encoded data removed]",
      "text/plain": [
       "<Figure size 1500x1000 with 3 Axes>"
      ]
     },
     "metadata": {},
     "output_type": "display_data"
    }
   ],
   "source": [
    "columns=['Weekly_Sales','Temperature','Unemployment']\n",
    "plt.figure(figsize=(15,10))\n",
    "colors = ['blue', 'red', 'purple']\n",
    "for i,colum  in enumerate(columns,1):\n",
    "    plt.subplot(3,3,i)\n",
    "    sns.boxplot(data=data, y=colum,color='red')\n",
    "    plt.xlabel('')  # Empty string removes the label\n",
    "    plt.ylabel('') \n",
    "    plt.title(colum)"
   ]
  },
  {
   "cell_type": "code",
   "execution_count": 15,
   "id": "67f71a0b-e7aa-49a7-b859-95ab1c4c2437",
   "metadata": {},
   "outputs": [],
   "source": [
    "data['Unemployment'] = cut_outliers_IQR(data['Unemployment'])\n",
    "data['Temperature'] = cut_outliers_IQR(data['Temperature'])\n",
    "data['Weekly_Sales'] = cut_outliers_IQR(data['Weekly_Sales'])"
   ]
  },
  {
   "cell_type": "markdown",
   "id": "7742bbab-5237-4e3c-b607-571c7bdaa1b1",
   "metadata": {},
   "source": [
    "##### Стандартизируем Weekly_Sales, Temperature, Fuel_Price, CPI и Unemployment для моделей, чувствительных к масштабу"
   ]
  },
  {
   "cell_type": "code",
   "execution_count": 16,
   "id": "ac6c9e21-cb75-41d4-8171-45e2f2a0598f",
   "metadata": {},
   "outputs": [],
   "source": [
    "to_stand = ['Unemployment', 'Fuel_Price', 'CPI', 'Temperature']\n",
    "the_rest = []\n",
    "for i in data.columns:\n",
    "    if i not in to_stand:\n",
    "        the_rest.append(i)"
   ]
  },
  {
   "cell_type": "code",
   "execution_count": 17,
   "id": "823af2a6-642e-47e3-b235-a58f9f5ea789",
   "metadata": {},
   "outputs": [
    {
     "data": {
      "image/png": "[encoded data removed]",
      "text/plain": [
       "<Figure size 1500x1000 with 5 Axes>"
      ]
     },
     "metadata": {},
     "output_type": "display_data"
    }
   ],
   "source": [
    "columns=['Weekly_Sales', 'Temperature', 'CPI','Fuel_Price','Unemployment']\n",
    "plt.figure(figsize=(15,10))\n",
    "colors = ['blue', 'green', 'red', 'purple','magenta']\n",
    "for i,colum  in enumerate(columns,1):\n",
    "    plt.subplot(4,5,i)\n",
    "    sns.histplot(data[colum],color=colors[i-1])\n",
    "    plt.title(colum)\n",
    "    plt.xlabel('')  # Empty string removes the label\n",
    "    plt.ylabel('')"
   ]
  },
  {
   "cell_type": "markdown",
   "id": "1a27bd72-0ff3-4567-97b7-346bc6e814bc",
   "metadata": {},
   "source": [
    "##### Применим Transformer, чтобы распределение стало более похожим на нормальное"
   ]
  },
  {
   "cell_type": "code",
   "execution_count": 18,
   "id": "eace5bbd-f038-40ea-93d2-e4543024617b",
   "metadata": {},
   "outputs": [
    {
     "data": {
      "text/html": [
       "<div>\n",
       "<style scoped>\n",
       "    .dataframe tbody tr th:only-of-type {\n",
       "        vertical-align: middle;\n",
       "    }\n",
       "\n",
       "    .dataframe tbody tr th {\n",
       "        vertical-align: top;\n",
       "    }\n",
       "\n",
       "    .dataframe thead th {\n",
       "        text-align: right;\n",
       "    }\n",
       "</style>\n",
       "<table border=\"1\" class=\"dataframe\">\n",
       "  <thead>\n",
       "    <tr style=\"text-align: right;\">\n",
       "      <th></th>\n",
       "      <th>Unemployment</th>\n",
       "      <th>Fuel_Price</th>\n",
       "      <th>CPI</th>\n",
       "      <th>Temperature</th>\n",
       "      <th>Store</th>\n",
       "      <th>Weekly_Sales</th>\n",
       "      <th>Holiday_Flag</th>\n",
       "      <th>Season_Autumn</th>\n",
       "      <th>Season_Spring</th>\n",
       "      <th>Season_Summer</th>\n",
       "      <th>Season_Winter</th>\n",
       "    </tr>\n",
       "  </thead>\n",
       "  <tbody>\n",
       "    <tr>\n",
       "      <th>0</th>\n",
       "      <td>0.179767</td>\n",
       "      <td>-1.683544</td>\n",
       "      <td>1.006528</td>\n",
       "      <td>-1.008923</td>\n",
       "      <td>1</td>\n",
       "      <td>1643690.90</td>\n",
       "      <td>0</td>\n",
       "      <td>False</td>\n",
       "      <td>False</td>\n",
       "      <td>False</td>\n",
       "      <td>True</td>\n",
       "    </tr>\n",
       "    <tr>\n",
       "      <th>1</th>\n",
       "      <td>0.179767</td>\n",
       "      <td>-1.732738</td>\n",
       "      <td>1.009450</td>\n",
       "      <td>-1.211062</td>\n",
       "      <td>1</td>\n",
       "      <td>1641957.44</td>\n",
       "      <td>1</td>\n",
       "      <td>False</td>\n",
       "      <td>False</td>\n",
       "      <td>False</td>\n",
       "      <td>True</td>\n",
       "    </tr>\n",
       "    <tr>\n",
       "      <th>2</th>\n",
       "      <td>0.179767</td>\n",
       "      <td>-1.802251</td>\n",
       "      <td>1.010391</td>\n",
       "      <td>-1.135784</td>\n",
       "      <td>1</td>\n",
       "      <td>1611968.17</td>\n",
       "      <td>0</td>\n",
       "      <td>False</td>\n",
       "      <td>False</td>\n",
       "      <td>False</td>\n",
       "      <td>True</td>\n",
       "    </tr>\n",
       "    <tr>\n",
       "      <th>3</th>\n",
       "      <td>0.179767</td>\n",
       "      <td>-1.706104</td>\n",
       "      <td>1.011002</td>\n",
       "      <td>-0.776893</td>\n",
       "      <td>1</td>\n",
       "      <td>1409727.59</td>\n",
       "      <td>0</td>\n",
       "      <td>False</td>\n",
       "      <td>False</td>\n",
       "      <td>False</td>\n",
       "      <td>True</td>\n",
       "    </tr>\n",
       "    <tr>\n",
       "      <th>4</th>\n",
       "      <td>0.179767</td>\n",
       "      <td>-1.574543</td>\n",
       "      <td>1.011613</td>\n",
       "      <td>-0.783903</td>\n",
       "      <td>1</td>\n",
       "      <td>1554806.68</td>\n",
       "      <td>0</td>\n",
       "      <td>False</td>\n",
       "      <td>True</td>\n",
       "      <td>False</td>\n",
       "      <td>False</td>\n",
       "    </tr>\n",
       "    <tr>\n",
       "      <th>...</th>\n",
       "      <td>...</td>\n",
       "      <td>...</td>\n",
       "      <td>...</td>\n",
       "      <td>...</td>\n",
       "      <td>...</td>\n",
       "      <td>...</td>\n",
       "      <td>...</td>\n",
       "      <td>...</td>\n",
       "      <td>...</td>\n",
       "      <td>...</td>\n",
       "      <td>...</td>\n",
       "    </tr>\n",
       "    <tr>\n",
       "      <th>6430</th>\n",
       "      <td>0.552466</td>\n",
       "      <td>1.408278</td>\n",
       "      <td>0.604228</td>\n",
       "      <td>0.219329</td>\n",
       "      <td>45</td>\n",
       "      <td>713173.95</td>\n",
       "      <td>0</td>\n",
       "      <td>True</td>\n",
       "      <td>False</td>\n",
       "      <td>False</td>\n",
       "      <td>False</td>\n",
       "    </tr>\n",
       "    <tr>\n",
       "      <th>6431</th>\n",
       "      <td>0.541603</td>\n",
       "      <td>1.380942</td>\n",
       "      <td>0.607706</td>\n",
       "      <td>0.219880</td>\n",
       "      <td>45</td>\n",
       "      <td>733455.07</td>\n",
       "      <td>0</td>\n",
       "      <td>True</td>\n",
       "      <td>False</td>\n",
       "      <td>False</td>\n",
       "      <td>False</td>\n",
       "    </tr>\n",
       "    <tr>\n",
       "      <th>6432</th>\n",
       "      <td>0.541603</td>\n",
       "      <td>1.415115</td>\n",
       "      <td>0.611181</td>\n",
       "      <td>-0.351524</td>\n",
       "      <td>45</td>\n",
       "      <td>734464.36</td>\n",
       "      <td>0</td>\n",
       "      <td>True</td>\n",
       "      <td>False</td>\n",
       "      <td>False</td>\n",
       "      <td>False</td>\n",
       "    </tr>\n",
       "    <tr>\n",
       "      <th>6433</th>\n",
       "      <td>0.541603</td>\n",
       "      <td>1.344527</td>\n",
       "      <td>0.611260</td>\n",
       "      <td>-0.242318</td>\n",
       "      <td>45</td>\n",
       "      <td>718125.53</td>\n",
       "      <td>0</td>\n",
       "      <td>True</td>\n",
       "      <td>False</td>\n",
       "      <td>False</td>\n",
       "      <td>False</td>\n",
       "    </tr>\n",
       "    <tr>\n",
       "      <th>6434</th>\n",
       "      <td>0.541603</td>\n",
       "      <td>1.147164</td>\n",
       "      <td>0.610774</td>\n",
       "      <td>-0.112053</td>\n",
       "      <td>45</td>\n",
       "      <td>760281.43</td>\n",
       "      <td>0</td>\n",
       "      <td>True</td>\n",
       "      <td>False</td>\n",
       "      <td>False</td>\n",
       "      <td>False</td>\n",
       "    </tr>\n",
       "  </tbody>\n",
       "</table>\n",
       "<p>6435 rows × 11 columns</p>\n",
       "</div>"
      ],
      "text/plain": [
       "      Unemployment  Fuel_Price       CPI  Temperature  Store  Weekly_Sales  \\\n",
       "0         0.179767   -1.683544  1.006528    -1.008923      1    1643690.90   \n",
       "1         0.179767   -1.732738  1.009450    -1.211062      1    1641957.44   \n",
       "2         0.179767   -1.802251  1.010391    -1.135784      1    1611968.17   \n",
       "3         0.179767   -1.706104  1.011002    -0.776893      1    1409727.59   \n",
       "4         0.179767   -1.574543  1.011613    -0.783903      1    1554806.68   \n",
       "...            ...         ...       ...          ...    ...           ...   \n",
       "6430      0.552466    1.408278  0.604228     0.219329     45     713173.95   \n",
       "6431      0.541603    1.380942  0.607706     0.219880     45     733455.07   \n",
       "6432      0.541603    1.415115  0.611181    -0.351524     45     734464.36   \n",
       "6433      0.541603    1.344527  0.611260    -0.242318     45     718125.53   \n",
       "6434      0.541603    1.147164  0.610774    -0.112053     45     760281.43   \n",
       "\n",
       "      Holiday_Flag  Season_Autumn  Season_Spring  Season_Summer  Season_Winter  \n",
       "0                0          False          False          False           True  \n",
       "1                1          False          False          False           True  \n",
       "2                0          False          False          False           True  \n",
       "3                0          False          False          False           True  \n",
       "4                0          False           True          False          False  \n",
       "...            ...            ...            ...            ...            ...  \n",
       "6430             0           True          False          False          False  \n",
       "6431             0           True          False          False          False  \n",
       "6432             0           True          False          False          False  \n",
       "6433             0           True          False          False          False  \n",
       "6434             0           True          False          False          False  \n",
       "\n",
       "[6435 rows x 11 columns]"
      ]
     },
     "execution_count": 18,
     "metadata": {},
     "output_type": "execute_result"
    }
   ],
   "source": [
    "from sklearn.preprocessing import PowerTransformer\n",
    "\n",
    "data_1 = data[to_stand].copy()\n",
    "p_t = PowerTransformer(standardize=True)\n",
    "data_tr = pd.DataFrame(p_t.fit_transform(data_1),columns=to_stand)\n",
    "data_standard = pd.concat([data_tr, data[the_rest]], axis=1)\n",
    "data_standard"
   ]
  },
  {
   "cell_type": "code",
   "execution_count": 19,
   "id": "cad647b1-51fc-467f-8114-55a9f2483bd4",
   "metadata": {},
   "outputs": [
    {
     "data": {
      "text/html": [
       "<div>\n",
       "<style scoped>\n",
       "    .dataframe tbody tr th:only-of-type {\n",
       "        vertical-align: middle;\n",
       "    }\n",
       "\n",
       "    .dataframe tbody tr th {\n",
       "        vertical-align: top;\n",
       "    }\n",
       "\n",
       "    .dataframe thead th {\n",
       "        text-align: right;\n",
       "    }\n",
       "</style>\n",
       "<table border=\"1\" class=\"dataframe\">\n",
       "  <thead>\n",
       "    <tr style=\"text-align: right;\">\n",
       "      <th></th>\n",
       "      <th>Unemployment</th>\n",
       "      <th>Fuel_Price</th>\n",
       "      <th>CPI</th>\n",
       "      <th>Temperature</th>\n",
       "      <th>Store</th>\n",
       "      <th>Holiday_Flag</th>\n",
       "      <th>Season_Autumn</th>\n",
       "      <th>Season_Spring</th>\n",
       "      <th>Season_Summer</th>\n",
       "      <th>Season_Winter</th>\n",
       "    </tr>\n",
       "  </thead>\n",
       "  <tbody>\n",
       "    <tr>\n",
       "      <th>0</th>\n",
       "      <td>0.179767</td>\n",
       "      <td>-1.683544</td>\n",
       "      <td>1.006528</td>\n",
       "      <td>-1.008923</td>\n",
       "      <td>1</td>\n",
       "      <td>0</td>\n",
       "      <td>False</td>\n",
       "      <td>False</td>\n",
       "      <td>False</td>\n",
       "      <td>True</td>\n",
       "    </tr>\n",
       "    <tr>\n",
       "      <th>1</th>\n",
       "      <td>0.179767</td>\n",
       "      <td>-1.732738</td>\n",
       "      <td>1.009450</td>\n",
       "      <td>-1.211062</td>\n",
       "      <td>1</td>\n",
       "      <td>1</td>\n",
       "      <td>False</td>\n",
       "      <td>False</td>\n",
       "      <td>False</td>\n",
       "      <td>True</td>\n",
       "    </tr>\n",
       "    <tr>\n",
       "      <th>2</th>\n",
       "      <td>0.179767</td>\n",
       "      <td>-1.802251</td>\n",
       "      <td>1.010391</td>\n",
       "      <td>-1.135784</td>\n",
       "      <td>1</td>\n",
       "      <td>0</td>\n",
       "      <td>False</td>\n",
       "      <td>False</td>\n",
       "      <td>False</td>\n",
       "      <td>True</td>\n",
       "    </tr>\n",
       "    <tr>\n",
       "      <th>3</th>\n",
       "      <td>0.179767</td>\n",
       "      <td>-1.706104</td>\n",
       "      <td>1.011002</td>\n",
       "      <td>-0.776893</td>\n",
       "      <td>1</td>\n",
       "      <td>0</td>\n",
       "      <td>False</td>\n",
       "      <td>False</td>\n",
       "      <td>False</td>\n",
       "      <td>True</td>\n",
       "    </tr>\n",
       "    <tr>\n",
       "      <th>4</th>\n",
       "      <td>0.179767</td>\n",
       "      <td>-1.574543</td>\n",
       "      <td>1.011613</td>\n",
       "      <td>-0.783903</td>\n",
       "      <td>1</td>\n",
       "      <td>0</td>\n",
       "      <td>False</td>\n",
       "      <td>True</td>\n",
       "      <td>False</td>\n",
       "      <td>False</td>\n",
       "    </tr>\n",
       "    <tr>\n",
       "      <th>...</th>\n",
       "      <td>...</td>\n",
       "      <td>...</td>\n",
       "      <td>...</td>\n",
       "      <td>...</td>\n",
       "      <td>...</td>\n",
       "      <td>...</td>\n",
       "      <td>...</td>\n",
       "      <td>...</td>\n",
       "      <td>...</td>\n",
       "      <td>...</td>\n",
       "    </tr>\n",
       "    <tr>\n",
       "      <th>6430</th>\n",
       "      <td>0.552466</td>\n",
       "      <td>1.408278</td>\n",
       "      <td>0.604228</td>\n",
       "      <td>0.219329</td>\n",
       "      <td>45</td>\n",
       "      <td>0</td>\n",
       "      <td>True</td>\n",
       "      <td>False</td>\n",
       "      <td>False</td>\n",
       "      <td>False</td>\n",
       "    </tr>\n",
       "    <tr>\n",
       "      <th>6431</th>\n",
       "      <td>0.541603</td>\n",
       "      <td>1.380942</td>\n",
       "      <td>0.607706</td>\n",
       "      <td>0.219880</td>\n",
       "      <td>45</td>\n",
       "      <td>0</td>\n",
       "      <td>True</td>\n",
       "      <td>False</td>\n",
       "      <td>False</td>\n",
       "      <td>False</td>\n",
       "    </tr>\n",
       "    <tr>\n",
       "      <th>6432</th>\n",
       "      <td>0.541603</td>\n",
       "      <td>1.415115</td>\n",
       "      <td>0.611181</td>\n",
       "      <td>-0.351524</td>\n",
       "      <td>45</td>\n",
       "      <td>0</td>\n",
       "      <td>True</td>\n",
       "      <td>False</td>\n",
       "      <td>False</td>\n",
       "      <td>False</td>\n",
       "    </tr>\n",
       "    <tr>\n",
       "      <th>6433</th>\n",
       "      <td>0.541603</td>\n",
       "      <td>1.344527</td>\n",
       "      <td>0.611260</td>\n",
       "      <td>-0.242318</td>\n",
       "      <td>45</td>\n",
       "      <td>0</td>\n",
       "      <td>True</td>\n",
       "      <td>False</td>\n",
       "      <td>False</td>\n",
       "      <td>False</td>\n",
       "    </tr>\n",
       "    <tr>\n",
       "      <th>6434</th>\n",
       "      <td>0.541603</td>\n",
       "      <td>1.147164</td>\n",
       "      <td>0.610774</td>\n",
       "      <td>-0.112053</td>\n",
       "      <td>45</td>\n",
       "      <td>0</td>\n",
       "      <td>True</td>\n",
       "      <td>False</td>\n",
       "      <td>False</td>\n",
       "      <td>False</td>\n",
       "    </tr>\n",
       "  </tbody>\n",
       "</table>\n",
       "<p>6435 rows × 10 columns</p>\n",
       "</div>"
      ],
      "text/plain": [
       "      Unemployment  Fuel_Price       CPI  Temperature  Store  Holiday_Flag  \\\n",
       "0         0.179767   -1.683544  1.006528    -1.008923      1             0   \n",
       "1         0.179767   -1.732738  1.009450    -1.211062      1             1   \n",
       "2         0.179767   -1.802251  1.010391    -1.135784      1             0   \n",
       "3         0.179767   -1.706104  1.011002    -0.776893      1             0   \n",
       "4         0.179767   -1.574543  1.011613    -0.783903      1             0   \n",
       "...            ...         ...       ...          ...    ...           ...   \n",
       "6430      0.552466    1.408278  0.604228     0.219329     45             0   \n",
       "6431      0.541603    1.380942  0.607706     0.219880     45             0   \n",
       "6432      0.541603    1.415115  0.611181    -0.351524     45             0   \n",
       "6433      0.541603    1.344527  0.611260    -0.242318     45             0   \n",
       "6434      0.541603    1.147164  0.610774    -0.112053     45             0   \n",
       "\n",
       "      Season_Autumn  Season_Spring  Season_Summer  Season_Winter  \n",
       "0             False          False          False           True  \n",
       "1             False          False          False           True  \n",
       "2             False          False          False           True  \n",
       "3             False          False          False           True  \n",
       "4             False           True          False          False  \n",
       "...             ...            ...            ...            ...  \n",
       "6430           True          False          False          False  \n",
       "6431           True          False          False          False  \n",
       "6432           True          False          False          False  \n",
       "6433           True          False          False          False  \n",
       "6434           True          False          False          False  \n",
       "\n",
       "[6435 rows x 10 columns]"
      ]
     },
     "execution_count": 19,
     "metadata": {},
     "output_type": "execute_result"
    }
   ],
   "source": [
    "target = data_standard['Weekly_Sales'].copy()\n",
    "data_standard.drop('Weekly_Sales', axis=1, inplace=True)\n",
    "data_standard"
   ]
  },
  {
   "cell_type": "markdown",
   "id": "0adcb845-6228-4b1e-af38-778a58770c51",
   "metadata": {},
   "source": [
    "plt.figure(figsize=(15,15))\n",
    "sns.heatmap(data_standard.corr(), annot=True, cmap='coolwarm')\n",
    "plt.title('Корреляционная матрица')\n",
    "plt.show()\n"
   ]
  },
  {
   "cell_type": "code",
   "execution_count": 20,
   "id": "504ffa08-59c8-4934-ae54-8ee2a81bf142",
   "metadata": {},
   "outputs": [],
   "source": [
    "x_train, x_test, y_train, y_test = train_test_split(data_standard, target, test_size=0.2, random_state=42)"
   ]
  },
  {
   "cell_type": "markdown",
   "id": "2bb25655-6e97-41d8-91a1-c5b18771da39",
   "metadata": {},
   "source": [
    "##### Применим target encoding для работы с категориальной переменной store, которая в настоящее время закодирована с помощью label encoding, что неэффективно при большом количестве категорий"
   ]
  },
  {
   "cell_type": "code",
   "execution_count": 21,
   "id": "038c1a47-428e-4bd8-ab3b-36ec399a5081",
   "metadata": {},
   "outputs": [
    {
     "data": {
      "text/html": [
       "<div>\n",
       "<style scoped>\n",
       "    .dataframe tbody tr th:only-of-type {\n",
       "        vertical-align: middle;\n",
       "    }\n",
       "\n",
       "    .dataframe tbody tr th {\n",
       "        vertical-align: top;\n",
       "    }\n",
       "\n",
       "    .dataframe thead th {\n",
       "        text-align: right;\n",
       "    }\n",
       "</style>\n",
       "<table border=\"1\" class=\"dataframe\">\n",
       "  <thead>\n",
       "    <tr style=\"text-align: right;\">\n",
       "      <th></th>\n",
       "      <th>Unemployment</th>\n",
       "      <th>Fuel_Price</th>\n",
       "      <th>CPI</th>\n",
       "      <th>Temperature</th>\n",
       "      <th>Store</th>\n",
       "      <th>Holiday_Flag</th>\n",
       "      <th>Season_Autumn</th>\n",
       "      <th>Season_Spring</th>\n",
       "      <th>Season_Summer</th>\n",
       "      <th>Season_Winter</th>\n",
       "    </tr>\n",
       "  </thead>\n",
       "  <tbody>\n",
       "    <tr>\n",
       "      <th>1033</th>\n",
       "      <td>-1.024373</td>\n",
       "      <td>-1.663016</td>\n",
       "      <td>1.081642</td>\n",
       "      <td>0.796856</td>\n",
       "      <td>8</td>\n",
       "      <td>0</td>\n",
       "      <td>True</td>\n",
       "      <td>False</td>\n",
       "      <td>False</td>\n",
       "      <td>False</td>\n",
       "    </tr>\n",
       "    <tr>\n",
       "      <th>915</th>\n",
       "      <td>0.637891</td>\n",
       "      <td>0.012702</td>\n",
       "      <td>0.605224</td>\n",
       "      <td>-2.100893</td>\n",
       "      <td>7</td>\n",
       "      <td>0</td>\n",
       "      <td>False</td>\n",
       "      <td>True</td>\n",
       "      <td>False</td>\n",
       "      <td>False</td>\n",
       "    </tr>\n",
       "    <tr>\n",
       "      <th>5903</th>\n",
       "      <td>0.755248</td>\n",
       "      <td>-0.511587</td>\n",
       "      <td>-1.196665</td>\n",
       "      <td>0.019073</td>\n",
       "      <td>42</td>\n",
       "      <td>0</td>\n",
       "      <td>True</td>\n",
       "      <td>False</td>\n",
       "      <td>False</td>\n",
       "      <td>False</td>\n",
       "    </tr>\n",
       "    <tr>\n",
       "      <th>2083</th>\n",
       "      <td>-0.016508</td>\n",
       "      <td>1.201500</td>\n",
       "      <td>-0.875108</td>\n",
       "      <td>0.457222</td>\n",
       "      <td>15</td>\n",
       "      <td>0</td>\n",
       "      <td>False</td>\n",
       "      <td>False</td>\n",
       "      <td>True</td>\n",
       "      <td>False</td>\n",
       "    </tr>\n",
       "    <tr>\n",
       "      <th>5943</th>\n",
       "      <td>0.277812</td>\n",
       "      <td>0.834115</td>\n",
       "      <td>-1.104482</td>\n",
       "      <td>1.469896</td>\n",
       "      <td>42</td>\n",
       "      <td>0</td>\n",
       "      <td>False</td>\n",
       "      <td>False</td>\n",
       "      <td>True</td>\n",
       "      <td>False</td>\n",
       "    </tr>\n",
       "    <tr>\n",
       "      <th>...</th>\n",
       "      <td>...</td>\n",
       "      <td>...</td>\n",
       "      <td>...</td>\n",
       "      <td>...</td>\n",
       "      <td>...</td>\n",
       "      <td>...</td>\n",
       "      <td>...</td>\n",
       "      <td>...</td>\n",
       "      <td>...</td>\n",
       "      <td>...</td>\n",
       "    </tr>\n",
       "    <tr>\n",
       "      <th>3772</th>\n",
       "      <td>-0.002703</td>\n",
       "      <td>0.117791</td>\n",
       "      <td>-0.842049</td>\n",
       "      <td>-1.168163</td>\n",
       "      <td>27</td>\n",
       "      <td>0</td>\n",
       "      <td>False</td>\n",
       "      <td>False</td>\n",
       "      <td>False</td>\n",
       "      <td>True</td>\n",
       "    </tr>\n",
       "    <tr>\n",
       "      <th>5191</th>\n",
       "      <td>0.419148</td>\n",
       "      <td>-1.402841</td>\n",
       "      <td>0.992064</td>\n",
       "      <td>-0.353161</td>\n",
       "      <td>37</td>\n",
       "      <td>0</td>\n",
       "      <td>False</td>\n",
       "      <td>False</td>\n",
       "      <td>False</td>\n",
       "      <td>True</td>\n",
       "    </tr>\n",
       "    <tr>\n",
       "      <th>5226</th>\n",
       "      <td>0.225929</td>\n",
       "      <td>0.702098</td>\n",
       "      <td>1.070191</td>\n",
       "      <td>1.431333</td>\n",
       "      <td>37</td>\n",
       "      <td>0</td>\n",
       "      <td>False</td>\n",
       "      <td>False</td>\n",
       "      <td>True</td>\n",
       "      <td>False</td>\n",
       "    </tr>\n",
       "    <tr>\n",
       "      <th>5390</th>\n",
       "      <td>2.113447</td>\n",
       "      <td>0.135341</td>\n",
       "      <td>-1.076482</td>\n",
       "      <td>-0.884027</td>\n",
       "      <td>38</td>\n",
       "      <td>1</td>\n",
       "      <td>False</td>\n",
       "      <td>False</td>\n",
       "      <td>False</td>\n",
       "      <td>True</td>\n",
       "    </tr>\n",
       "    <tr>\n",
       "      <th>860</th>\n",
       "      <td>0.762205</td>\n",
       "      <td>-1.728642</td>\n",
       "      <td>0.548842</td>\n",
       "      <td>-1.783427</td>\n",
       "      <td>7</td>\n",
       "      <td>0</td>\n",
       "      <td>False</td>\n",
       "      <td>False</td>\n",
       "      <td>False</td>\n",
       "      <td>True</td>\n",
       "    </tr>\n",
       "  </tbody>\n",
       "</table>\n",
       "<p>5148 rows × 10 columns</p>\n",
       "</div>"
      ],
      "text/plain": [
       "      Unemployment  Fuel_Price       CPI  Temperature  Store  Holiday_Flag  \\\n",
       "1033     -1.024373   -1.663016  1.081642     0.796856      8             0   \n",
       "915       0.637891    0.012702  0.605224    -2.100893      7             0   \n",
       "5903      0.755248   -0.511587 -1.196665     0.019073     42             0   \n",
       "2083     -0.016508    1.201500 -0.875108     0.457222     15             0   \n",
       "5943      0.277812    0.834115 -1.104482     1.469896     42             0   \n",
       "...            ...         ...       ...          ...    ...           ...   \n",
       "3772     -0.002703    0.117791 -0.842049    -1.168163     27             0   \n",
       "5191      0.419148   -1.402841  0.992064    -0.353161     37             0   \n",
       "5226      0.225929    0.702098  1.070191     1.431333     37             0   \n",
       "5390      2.113447    0.135341 -1.076482    -0.884027     38             1   \n",
       "860       0.762205   -1.728642  0.548842    -1.783427      7             0   \n",
       "\n",
       "      Season_Autumn  Season_Spring  Season_Summer  Season_Winter  \n",
       "1033           True          False          False          False  \n",
       "915           False           True          False          False  \n",
       "5903           True          False          False          False  \n",
       "2083          False          False           True          False  \n",
       "5943          False          False           True          False  \n",
       "...             ...            ...            ...            ...  \n",
       "3772          False          False          False           True  \n",
       "5191          False          False          False           True  \n",
       "5226          False          False           True          False  \n",
       "5390          False          False          False           True  \n",
       "860           False          False          False           True  \n",
       "\n",
       "[5148 rows x 10 columns]"
      ]
     },
     "execution_count": 21,
     "metadata": {},
     "output_type": "execute_result"
    }
   ],
   "source": [
    "x_train"
   ]
  },
  {
   "cell_type": "code",
   "execution_count": 23,
   "id": "82c1af71-ec90-4fd2-a1b5-19076aca77c1",
   "metadata": {},
   "outputs": [],
   "source": [
    "encoder = TargetEncoder()\n",
    "scaler = MinMaxScaler()\n",
    "\n",
    "store_enc = encoder.fit_transform(x_train[['Store']], y_train)\n",
    "store_train = scaler.fit_transform(store_enc)\n",
    "x_train['Store'] = store_train\n",
    "\n",
    "store_enc_test = encoder.transform(x_test[['Store']])\n",
    "store_test = scaler.fit_transform(store_enc_test)\n",
    "x_test['Store'] = store_test"
   ]
  },
  {
   "cell_type": "markdown",
   "id": "50be25b2-a02a-4cb1-8c44-56da7f95af23",
   "metadata": {},
   "source": [
    "### Linear Regression"
   ]
  },
  {
   "cell_type": "code",
   "execution_count": 24,
   "id": "036249b8-5932-4c08-8d7a-71ca4c35fc58",
   "metadata": {},
   "outputs": [],
   "source": [
    "Li_Reg = LinearRegression()\n",
    "Li_Reg.fit(x_train, y_train)\n",
    "\n",
    "pred = Li_Reg.predict(x_test)\n",
    "\n",
    "mse = mean_squared_error(y_test, pred)\n",
    "mae = mean_absolute_error(y_test, pred)\n",
    "r2 = r2_score(y_test, pred)"
   ]
  },
  {
   "cell_type": "code",
   "execution_count": 25,
   "id": "9f99f158-be67-4672-99dd-01b6b6c0692a",
   "metadata": {
    "scrolled": true
   },
   "outputs": [
    {
     "name": "stdout",
     "output_type": "stream",
     "text": [
      "mse = 20184013922.150295\n",
      "mae = 89255.8238053613\n",
      "r2 = 0.9353834644903606\n"
     ]
    }
   ],
   "source": [
    "print(f'mse = {mse}', \n",
    "     f'mae = {mae}',\n",
    "     f'r2 = {r2}', sep='\\n')"
   ]
  },
  {
   "cell_type": "code",
   "execution_count": null,
   "id": "05a860b9-9a45-4f77-9102-3dd9c9d74a13",
   "metadata": {},
   "outputs": [],
   "source": [
    "#!pip install statsmodels"
   ]
  },
  {
   "cell_type": "code",
   "execution_count": null,
   "id": "6df9e305-cd99-4e0f-9e9b-af829496706a",
   "metadata": {},
   "outputs": [],
   "source": [
    "'''\n",
    "для проверки на мультиколлинеарность \n",
    "\n",
    "def calculate_vif(data):\n",
    "    vif_df = pd.DataFrame(columns = ['Var', 'Vif'])\n",
    "    x_var_names = data.columns\n",
    "    for i in range(0, x_var_names.shape[0]):\n",
    "        y = data[x_var_names[i]]\n",
    "        x = data[x_var_names.drop([x_var_names[i]])]\n",
    "        r_squared = sm.OLS(y,x).fit().rsquared\n",
    "        vif = round(1/(1-r_squared),2)\n",
    "        vif_df.loc[i] = [x_var_names[i], vif]\n",
    "    return vif_df.sort_values(by = 'Vif', axis = 0, ascending=False, inplace=False)\n",
    "    '''"
   ]
  },
  {
   "cell_type": "markdown",
   "id": "bdc07da8-92fd-42b0-b92c-287afead7bff",
   "metadata": {},
   "source": [
    "### Lasso Regression"
   ]
  },
  {
   "cell_type": "code",
   "execution_count": 26,
   "id": "5ed9aaf0-6e07-4acd-9e82-3d1b35ff43b6",
   "metadata": {},
   "outputs": [
    {
     "name": "stdout",
     "output_type": "stream",
     "text": [
      "20183860243.24458\n",
      "89254.3258144894\n"
     ]
    },
    {
     "data": {
      "text/plain": [
       "0.9353839564736948"
      ]
     },
     "execution_count": 26,
     "metadata": {},
     "output_type": "execute_result"
    }
   ],
   "source": [
    "La_Reg = Lasso()\n",
    "La_Reg.fit(x_train, y_train)\n",
    "\n",
    "predi = La_Reg.predict(x_test)\n",
    "\n",
    "print(mean_squared_error(y_test, predi))\n",
    "print(mean_absolute_error(y_test, predi))\n",
    "r2_score(y_test, predi)"
   ]
  },
  {
   "cell_type": "markdown",
   "id": "be3115ae-ff28-42be-9043-05f0befe328f",
   "metadata": {},
   "source": [
    "### Ridge Regression"
   ]
  },
  {
   "cell_type": "code",
   "execution_count": 28,
   "id": "b5f9d142-6a86-4cce-95cd-5f8a3dfda4eb",
   "metadata": {},
   "outputs": [
    {
     "name": "stdout",
     "output_type": "stream",
     "text": [
      "20160234352.545746\n",
      "89138.78187516863\n"
     ]
    },
    {
     "data": {
      "text/plain": [
       "0.9354595917368875"
      ]
     },
     "execution_count": 28,
     "metadata": {},
     "output_type": "execute_result"
    }
   ],
   "source": [
    "Rid_Reg = Ridge()\n",
    "Rid_Reg.fit(x_train, y_train)\n",
    "\n",
    "predi = Rid_Reg.predict(x_test)\n",
    "\n",
    "print(mean_squared_error(y_test, predi))\n",
    "print(mean_absolute_error(y_test, predi))\n",
    "r2_score(y_test, predi)"
   ]
  },
  {
   "cell_type": "markdown",
   "id": "5e9b8848-2981-43fa-915b-54f78998e2ef",
   "metadata": {},
   "source": [
    "### DecisionTreeRegressor"
   ]
  },
  {
   "cell_type": "code",
   "execution_count": 32,
   "id": "46df66fe-4c6d-4e52-9d3a-871fdaf299f3",
   "metadata": {},
   "outputs": [
    {
     "name": "stdout",
     "output_type": "stream",
     "text": [
      "28696528073.490433\n",
      "90440.82571289821\n"
     ]
    },
    {
     "data": {
      "text/plain": [
       "0.908131740672793"
      ]
     },
     "execution_count": 32,
     "metadata": {},
     "output_type": "execute_result"
    }
   ],
   "source": [
    "DTR = DecisionTreeRegressor()\n",
    "DTR.fit(x_train, y_train)\n",
    "\n",
    "predi = DTR.predict(x_test)\n",
    "\n",
    "print(mean_squared_error(y_test, predi))\n",
    "print(mean_absolute_error(y_test, predi))\n",
    "r2_score(y_test, predi)"
   ]
  },
  {
   "cell_type": "markdown",
   "id": "943d3142-b431-4903-b379-3a0f25aac857",
   "metadata": {},
   "source": [
    "### Random Forest Regressor"
   ]
  },
  {
   "cell_type": "code",
   "execution_count": 33,
   "id": "44c30c7a-d78f-4e8d-aa3b-a3d47c61cc08",
   "metadata": {},
   "outputs": [
    {
     "name": "stdout",
     "output_type": "stream",
     "text": [
      "14069303778.045591\n",
      "67999.80063820902\n"
     ]
    },
    {
     "data": {
      "text/plain": [
       "0.9549589258768636"
      ]
     },
     "execution_count": 33,
     "metadata": {},
     "output_type": "execute_result"
    }
   ],
   "source": [
    "RFR = RandomForestRegressor()\n",
    "RFR.fit(x_train, y_train)\n",
    "\n",
    "predi = RFR.predict(x_test)\n",
    "\n",
    "print(mean_squared_error(y_test, predi))\n",
    "print(mean_absolute_error(y_test, predi))\n",
    "r2_score(y_test, predi)"
   ]
  },
  {
   "cell_type": "markdown",
   "id": "a20b3f78-735e-4093-9874-9d21ccffe7f9",
   "metadata": {},
   "source": [
    "### XGboostRegressor"
   ]
  },
  {
   "cell_type": "code",
   "execution_count": 34,
   "id": "80f0505a-2200-49a6-bbf0-1ff0d2defbe9",
   "metadata": {},
   "outputs": [
    {
     "name": "stdout",
     "output_type": "stream",
     "text": [
      "10523556391.957695\n",
      "60697.664727078474\n"
     ]
    },
    {
     "data": {
      "text/plain": [
       "0.9663101820127864"
      ]
     },
     "execution_count": 34,
     "metadata": {},
     "output_type": "execute_result"
    }
   ],
   "source": [
    "XBBR = XGBRegressor()\n",
    "XBBR.fit(x_train, y_train)\n",
    "\n",
    "predi = XBBR.predict(x_test)\n",
    "\n",
    "print(mean_squared_error(y_test, predi))\n",
    "print(mean_absolute_error(y_test, predi))\n",
    "r2_score(y_test, predi)"
   ]
  }
 ],
 "metadata": {
  "kernelspec": {
   "display_name": "Python 3 (ipykernel)",
   "language": "python",
   "name": "python3"
  },
  "language_info": {
   "codemirror_mode": {
    "name": "ipython",
    "version": 3
   },
   "file_extension": ".py",
   "mimetype": "text/x-python",
   "name": "python",
   "nbconvert_exporter": "python",
   "pygments_lexer": "ipython3",
   "version": "3.11.7"
  }
 },
 "nbformat": 4,
 "nbformat_minor": 5
}
